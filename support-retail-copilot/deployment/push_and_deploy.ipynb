{
 "cells": [
  {
   "cell_type": "markdown",
   "metadata": {},
   "source": [
    "# 1. Push the prompt flow to AI Studio"
   ]
  },
  {
   "cell_type": "code",
   "execution_count": 3,
   "metadata": {},
   "outputs": [],
   "source": [
    "import os\n",
    "from azure.ai.ml import MLClient\n",
    "from azure.ai.ml.entities import WorkspaceConnection\n",
    "from azure.identity import DefaultAzureCredential, InteractiveBrowserCredential\n",
    "\n",
    "config_path = \"../config.json\""
   ]
  },
  {
   "cell_type": "code",
   "execution_count": null,
   "metadata": {},
   "outputs": [],
   "source": [
    "# IMPORTANT! Rememeber login with az login in kernel terminal\n",
    "\n",
    "#az login --use-device-code --tenant \"XXXX\"\n",
    "#az account set --subscription \"XXXX\""
   ]
  },
  {
   "cell_type": "code",
   "execution_count": 4,
   "metadata": {},
   "outputs": [],
   "source": [
    "try:\n",
    "    credential = DefaultAzureCredential()\n",
    "    # Check if given credential can get token successfully.\n",
    "    credential.get_token(\"https://management.azure.com/.default\")\n",
    "except Exception as ex:\n",
    "    # Fall back to InteractiveBrowserCredential in case DefaultAzureCredential not work\n",
    "    credential = InteractiveBrowserCredential()"
   ]
  },
  {
   "cell_type": "code",
   "execution_count": 5,
   "metadata": {},
   "outputs": [
    {
     "name": "stderr",
     "output_type": "stream",
     "text": [
      "Found the config file in: /workspaces/contoso-support-pf-demo/config.json\n"
     ]
    }
   ],
   "source": [
    "from promptflow.azure import PFClient\n",
    "\n",
    "pf_azure_client = PFClient.from_config(credential=credential, path=config_path)"
   ]
  },
  {
   "cell_type": "code",
   "execution_count": 7,
   "metadata": {},
   "outputs": [],
   "source": [
    "# Create unique name for pf name with date time\n",
    "import datetime\n",
    "now = datetime.datetime.now()\n",
    "pf_name = \"contoso-support-{}\".format(now.strftime(\"%Y-%m-%d-%H-%M-%S\"))"
   ]
  },
  {
   "cell_type": "code",
   "execution_count": 9,
   "metadata": {},
   "outputs": [],
   "source": [
    "# Runtime no longer needed (not in flow schema)\n",
    "# load flow\n",
    "flow = \"../rag_flow/\""
   ]
  },
  {
   "cell_type": "code",
   "execution_count": 10,
   "metadata": {},
   "outputs": [
    {
     "name": "stderr",
     "output_type": "stream",
     "text": [
      "[2024-02-29 04:00:41,186][promptflow][WARNING] - Schema validation warnings: [id: Unknown field., name: Unknown field.]\n"
     ]
    },
    {
     "name": "stdout",
     "output_type": "stream",
     "text": [
      "Flow created successfully:\n",
      "{\n",
      "    \"name\": \"8a6e1afc-a65c-478d-a92a-39f15d34695c\",\n",
      "    \"type\": \"chat\",\n",
      "    \"path\": \"Users/alejandro.almeida.garcia/promptflow/rag_flow-02-29-2024-04-00-41/flow.dag.yaml\",\n",
      "    \"code\": \"azureml://locations/swedencentral/workspaces/663ad275-df19-4e58-ab70-99f190843266/flows/8a6e1afc-a65c-478d-a92a-39f15d34695c\",\n",
      "    \"display_name\": \"contoso-support-2024-02-29-03-58-49\",\n",
      "    \"owner\": {\n",
      "        \"user_object_id\": \"4eb1a358-0a8c-444b-a55a-a9a520707c16\",\n",
      "        \"user_tenant_id\": \"b90fb76c-8565-4c08-a7e2-f30f7c488ff4\",\n",
      "        \"user_name\": \"Alejandro Almeida\"\n",
      "    },\n",
      "    \"is_archived\": false,\n",
      "    \"created_date\": \"2024-02-29 04:00:58.736992+00:00\",\n",
      "    \"flow_portal_url\": \"https://ai.azure.com/projectflows/8a6e1afc-a65c-478d-a92a-39f15d34695c/663ad275-df19-4e58-ab70-99f190843266/details/Flow?wsid=/subscriptions/8d2c636f-918d-4ef6-8454-8f5f4b086e72/resourcegroups/contoso-support-rg/providers/Microsoft.MachineLearningServices/workspaces/contoso-support-aiproj\"\n",
      "}\n",
      "Creating prompt flow <promptflow.azure._entities._flow.Flow object at 0x7f8385e0f250>\n"
     ]
    }
   ],
   "source": [
    "contoso_chat_flow = pf_azure_client.flows.create_or_update(\n",
    "    flow=flow,\n",
    "    display_name=pf_name,\n",
    "    type=\"chat\")\n",
    "print(\"Creating prompt flow\", contoso_chat_flow)"
   ]
  },
  {
   "cell_type": "markdown",
   "metadata": {},
   "source": [
    "# 2. Navigate to AI Studio to test and deploy the prompt flow"
   ]
  }
 ],
 "metadata": {
  "kernelspec": {
   "display_name": "Python 3",
   "language": "python",
   "name": "python3"
  },
  "language_info": {
   "codemirror_mode": {
    "name": "ipython",
    "version": 3
   },
   "file_extension": ".py",
   "mimetype": "text/x-python",
   "name": "python",
   "nbconvert_exporter": "python",
   "pygments_lexer": "ipython3",
   "version": "3.11.8"
  }
 },
 "nbformat": 4,
 "nbformat_minor": 2
}
